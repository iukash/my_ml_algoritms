{
 "cells": [
  {
   "cell_type": "markdown",
   "metadata": {},
   "source": [
    "## Метрики кластеризации\n",
    "**1. Внутрикластерное расстояние** \n",
    "$$\\sum_{k=1}^k\\sum_{i=1}^l [a(x_i)=k] d(x_i, C_k) \\rightarrow \\min$$\n",
    "\n",
    "где $[a(x_i)=k]$ - индикатор принадлежности к кластеру $k$\n",
    "\n",
    "$d(x_i, C_k)$ - расстояние от точки $x_i$ до центра кластера $C_k$\n",
    "\n",
    "**2. Межкластерное расстояние**\n",
    "$$\\sum_{i,j=1}^l[a(x_i)\\neq a(x_j)]d(x_i, x_j) \\rightarrow \\max$$\n",
    "\n",
    "где $[a(x_i)\\neq a(x_j)]$ - индикатор соответствия точек разным кластерам\n",
    "\n",
    "$d(x_i, x_j)$ - расстояние между точками\n",
    "\n",
    "**3. Индекс Данна (DannaIndex)**\n",
    "$$\\frac{\\min d(k, k')}{\\max(d(k))} \\rightarrow \\max$$\n",
    "\n",
    "где $\\min d(k, k')$ - минимальное расстояние между кластерами\n",
    "\n",
    "$\\max(d(k))$ - максимальное внутрикластерное расстояние k-го кластера\n",
    "\n",
    "**4. Силуэт**\n",
    "\n",
    "$$\\frac{b - a}{\\max(a, b)}$$\n",
    "\n",
    "где a - среднее расстояние от данного объекта до объектов из того же кластера\n",
    "\n",
    "b - среднее расстояние от данного объекта до объектов из ближайщего кластера (отличного от того в котором лежит сам объект)"
   ]
  },
  {
   "cell_type": "markdown",
   "metadata": {},
   "source": [
    "## Методы кластеризации\n",
    "1. K-Means (вход число кластеров) рассмотрен далее..\n",
    "2. Affinity Propagation (не требует заранее определять число кластеров) ```sklearn.cluster.AffinityPropagation```\n",
    "3. Спектральная кластеризация (вход число кластеров) ```sklearn.cluster.SpectralClustering```\n",
    "4. Агломеративная кластеризация (вход число кластеров) ```sklearn.cluster.AgglomerativeClustering```"
   ]
  },
  {
   "cell_type": "markdown",
   "metadata": {},
   "source": [
    "## K-Means\n",
    "Алгоритм k-средних:\n",
    "1. Выбрать количество кластеров $k$, которое нам кажется оптимальным для наших данных (случай когда нет представления о количестве кластеров рассмотрен ниже)\n",
    "2. Высыпать случайным образом (или не очень случайным) в пространство наших данных $k$ точек (центроидов)\n",
    "3. Для каждой точки нашего набора данных посчитать, к какому центроиду она ближе\n",
    "4. Переместить каждый центроид в центр выборки, которую мы отнесли к этому центроиду\n",
    "5. Повторять шаги 3 и 4 фиксированное число раз, либо до тех пор пока центроиды на \"сойдутся\" (малое приращение при перемещении)"
   ]
  },
  {
   "cell_type": "markdown",
   "metadata": {},
   "source": [
    "### Реализация K-Means на python"
   ]
  },
  {
   "cell_type": "markdown",
   "metadata": {},
   "source": [
    "#### Подключение необходимых библиотек"
   ]
  },
  {
   "cell_type": "code",
   "execution_count": 88,
   "metadata": {},
   "outputs": [],
   "source": [
    "import numpy as np\n",
    "from scipy.spatial.distance import cdist\n",
    "import matplotlib.pyplot as plt"
   ]
  },
  {
   "cell_type": "markdown",
   "metadata": {},
   "source": [
    "#### Реализация класса KMeans"
   ]
  },
  {
   "cell_type": "code",
   "execution_count": 265,
   "metadata": {},
   "outputs": [],
   "source": [
    "class KMeansMy():\n",
    "    #инициализация\n",
    "    def __init__(self, n_clusters, random_state=None, max_iter=4):\n",
    "        self.n_clusters = n_clusters\n",
    "        self.max_iter = max_iter\n",
    "        if random_state is None:\n",
    "            self.random_state = np.random.randint(1, 1000)\n",
    "        else:\n",
    "            self.random_state = random_state\n",
    "        np.random.seed(seed = self.random_state)\n",
    "    \n",
    "    #обучение модели\n",
    "    def fit(self, X):\n",
    "        self.X = X\n",
    "        self.init_centroids()\n",
    "        self.labels_history_ = []\n",
    "        for i in range(self.max_iter):\n",
    "            #расчет расстояния до центроидов\n",
    "            distances = cdist(X, self.cent_history_[-1])\n",
    "            #устранение проблемы с отсутствием точек у центроида\n",
    "            distances[np.isnan(distances)] = 100\n",
    "            #выбор ближайшего центроида\n",
    "            labels = distances.argmin(axis=1)\n",
    "            self.labels_history_.append(labels)\n",
    "            #обновление расположения центроидов\n",
    "            centroids = self.cent_history_[-1].copy()\n",
    "            for k in range(self.n_clusters):\n",
    "                #проверка на отсутствие точек у центроида чтобы не изменять его на nan\n",
    "                if len(X[labels == k]) != 0:\n",
    "                    centroids[k, :] = np.mean(X[labels == k], axis=0)                \n",
    "            self.cent_history_.append(centroids)\n",
    "        self.count_inertia()\n",
    "    \n",
    "    #инициализация центроидов\n",
    "    def init_centroids(self):\n",
    "        centroids = np.random.normal(loc=0.0, scale=1., size=self.X.shape[1]*self.n_clusters)\n",
    "        centroids = centroids.reshape((self.n_clusters, self.X.shape[1]))\n",
    "        self.cent_history_ = []\n",
    "        self.cent_history_.append(centroids)\n",
    "    \n",
    "    #расчет внутрикластерного расстояния\n",
    "    def count_inertia(self):\n",
    "        self.inertia_ = np.sum((cdist(X, self.cent_history_[-1])**2).min(axis=1))"
   ]
  },
  {
   "cell_type": "markdown",
   "metadata": {},
   "source": [
    "#### Генерируем данные для проверки"
   ]
  },
  {
   "cell_type": "code",
   "execution_count": 266,
   "metadata": {},
   "outputs": [
    {
     "data": {
      "image/png": "[encoded data removed]",
      "text/plain": [
       "<Figure size 360x360 with 1 Axes>"
      ]
     },
     "metadata": {
      "needs_background": "light"
     },
     "output_type": "display_data"
    }
   ],
   "source": [
    "X = np.zeros((150, 2))\n",
    "\n",
    "np.random.seed(seed=123)\n",
    "X[:50, 0] = np.random.normal(loc=0.0, scale=.3, size=50)\n",
    "X[:50, 1] = np.random.normal(loc=0.0, scale=.3, size=50)\n",
    "\n",
    "X[50:100, 0] = np.random.normal(loc=2.0, scale=.5, size=50)\n",
    "X[50:100, 1] = np.random.normal(loc=-1.0, scale=.2, size=50)\n",
    "\n",
    "X[100:150, 0] = np.random.normal(loc=-1.0, scale=.2, size=50)\n",
    "X[100:150, 1] = np.random.normal(loc=2.0, scale=.5, size=50)\n",
    "\n",
    "plt.figure(figsize=(5, 5))\n",
    "plt.plot(X[:, 0], X[:, 1], 'bo')\n",
    "plt.show()"
   ]
  },
  {
   "cell_type": "markdown",
   "metadata": {},
   "source": [
    "#### Применяем модель"
   ]
  },
  {
   "cell_type": "code",
   "execution_count": 267,
   "metadata": {},
   "outputs": [],
   "source": [
    "kmeansmy = KMeansMy(3, max_iter=4, random_state=123)\n",
    "kmeansmy.fit(X)"
   ]
  },
  {
   "cell_type": "markdown",
   "metadata": {},
   "source": [
    "#### Визуализация результата работы"
   ]
  },
  {
   "cell_type": "code",
   "execution_count": 268,
   "metadata": {},
   "outputs": [
    {
     "data": {
      "image/png": "[encoded data removed]",
      "text/plain": [
       "<Figure size 1152x288 with 4 Axes>"
      ]
     },
     "metadata": {
      "needs_background": "light"
     },
     "output_type": "display_data"
    }
   ],
   "source": [
    "plt.figure(figsize=(16, 4))\n",
    "for i in range(4):\n",
    "    labels = kmeansmy.labels_history_[i]\n",
    "    centroids = kmeansmy.cent_history_[i]\n",
    "    \n",
    "    plt.subplot(1, 4, i + 1)\n",
    "    plt.plot(X[labels == 0, 0], X[labels == 0, 1], 'bo', label = 'cluster #1')\n",
    "    plt.plot(X[labels == 1, 0], X[labels == 1, 1], 'co', label = 'cluster #2')\n",
    "    plt.plot(X[labels == 2, 0], X[labels == 2, 1], 'mo', label = 'cluster #3')\n",
    "    plt.plot(centroids[:, 0], centroids[:, 1], 'rX')\n",
    "    plt.legend(loc=0)\n",
    "    plt.title(f'Step {i + 1}')"
   ]
  },
  {
   "cell_type": "markdown",
   "metadata": {},
   "source": [
    "**P.S.** конечно реализация sklearn обладает горадздо большим функционалам и приятными бонусами, например наличие параметра n_init - количество запусков для получения более устойчевого расстояния (возможно параллельное вычисление)"
   ]
  },
  {
   "cell_type": "markdown",
   "metadata": {},
   "source": [
    "### Выбор количества кластеров по внутрикластерному расстоянию\n",
    "При неизвестном количестве кластеров мы можем строить несколько моделей и смотреть на убывание метрики (например внутрикластерного расстояния) и когда убывание \"затухает\" выбирать данное значение числа кластеров как оптимальное. Покажем это графически. "
   ]
  },
  {
   "cell_type": "code",
   "execution_count": 272,
   "metadata": {},
   "outputs": [
    {
     "data": {
      "image/png": "[encoded data removed]",
      "text/plain": [
       "<Figure size 432x288 with 1 Axes>"
      ]
     },
     "metadata": {
      "needs_background": "light"
     },
     "output_type": "display_data"
    }
   ],
   "source": [
    "inertia = []\n",
    "for i in range(1, 10):\n",
    "    kmeansmy = KMeansMy(i, max_iter=4, random_state=123)\n",
    "    kmeansmy.fit(X)\n",
    "    inertia.append(np.sqrt(kmeansmy.inertia_))\n",
    "\n",
    "plt.plot(range(1, 10), inertia, marker='s')\n",
    "plt.xlabel('n_clusters')\n",
    "plt.ylabel('inertia')\n",
    "plt.show()"
   ]
  },
  {
   "cell_type": "markdown",
   "metadata": {},
   "source": [
    "Собственно падение внутрикластерного расстояния (на наших синтетических данных) очевидно \"затухает\" после 3-го кластера, соответственно оптимальное число кластеров 3."
   ]
  },
  {
   "cell_type": "code",
   "execution_count": null,
   "metadata": {},
   "outputs": [],
   "source": []
  }
 ],
 "metadata": {
  "kernelspec": {
   "display_name": "Python 3 (ipykernel)",
   "language": "python",
   "name": "python3"
  },
  "language_info": {
   "codemirror_mode": {
    "name": "ipython",
    "version": 3
   },
   "file_extension": ".py",
   "mimetype": "text/x-python",
   "name": "python",
   "nbconvert_exporter": "python",
   "pygments_lexer": "ipython3",
   "version": "3.10.6"
  }
 },
 "nbformat": 4,
 "nbformat_minor": 2
}
