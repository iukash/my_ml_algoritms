{
 "cells": [
  {
   "cell_type": "markdown",
   "id": "4bf0b45b",
   "metadata": {},
   "source": [
    "## Метод ближайших соседей (Nearest Neighbors) [sklearn](https://scikit-learn.org/stable/modules/generated/sklearn.neighbors.NearestNeighbors.html)"
   ]
  },
  {
   "cell_type": "markdown",
   "id": "31587d75",
   "metadata": {},
   "source": [
    "Метод ближайших соседей основан на вычислении расстояний между признаками на обучающей выборке (имеющей целевую переменную) и признаками новых входных данных.\n",
    "\n",
    "Позаимствуем данные у яндекс.практикума, они не обидятся ))"
   ]
  },
  {
   "cell_type": "code",
   "execution_count": 20,
   "id": "937af8b7",
   "metadata": {},
   "outputs": [],
   "source": [
    "import matplotlib.pyplot as plt\n",
    "import numpy as np\n",
    "import pandas as pd"
   ]
  },
  {
   "cell_type": "code",
   "execution_count": 21,
   "id": "31128531",
   "metadata": {},
   "outputs": [],
   "source": [
    "columns = ['комнаты', 'площадь', 'кухня', 'пл. жилая', 'этаж', 'всего этажей', 'кондиционер']\n",
    "\n",
    "df_train = pd.DataFrame([\n",
    "    [1, 38.5, 6.9, 18.9, 3, 5, 1],\n",
    "    [1, 38.0, 8.5, 19.2, 9, 17, 0],\n",
    "    [1, 34.7, 10.3, 19.8, 1, 9, 0],\n",
    "    [1, 45.9, 11.1, 17.5, 11, 23, 1],\n",
    "    [1, 42.4, 10.0, 19.9, 6, 14, 0],\n",
    "    [1, 46.0, 10.2, 20.5, 3, 12, 1],\n",
    "    [2, 77.7, 13.2, 39.3, 3, 17, 1],\n",
    "    [2, 69.8, 11.1, 31.4, 12, 23, 0],\n",
    "    [2, 78.2, 19.4, 33.2, 4, 9, 0],\n",
    "    [2, 55.5, 7.8, 29.6, 1, 25, 1],\n",
    "    [2, 74.3, 16.0, 34.2, 14, 17, 1],\n",
    "    [2, 78.3, 12.3, 42.6, 23, 23, 0],\n",
    "    [2, 74.0, 18.1, 49.0, 8, 9, 0],\n",
    "    [2, 91.4, 20.1, 60.4, 2, 10, 0],\n",
    "    [3, 85.0, 17.8, 56.1, 14, 14, 1],\n",
    "    [3, 79.8, 9.8, 44.8, 9, 10, 0],\n",
    "    [3, 72.0, 10.2, 37.3, 7, 9, 1],\n",
    "    [3, 95.3, 11.0, 51.5, 15, 23, 1],\n",
    "    [3, 69.3, 8.5, 39.3, 4, 9, 0],\n",
    "    [3, 89.8, 11.2, 58.2, 24, 25, 0],\n",
    "], columns=columns)"
   ]
  },
  {
   "cell_type": "markdown",
   "id": "8bfd4408",
   "metadata": {},
   "source": [
    "Задачу удобно рассмотреть для начала на плоскости, для этого оставим в выборке 2 признака (площадь и этаж) и целевой."
   ]
  },
  {
   "cell_type": "code",
   "execution_count": 23,
   "id": "4b41577a",
   "metadata": {},
   "outputs": [
    {
     "data": {
      "text/html": [
       "<div>\n",
       "<style scoped>\n",
       "    .dataframe tbody tr th:only-of-type {\n",
       "        vertical-align: middle;\n",
       "    }\n",
       "\n",
       "    .dataframe tbody tr th {\n",
       "        vertical-align: top;\n",
       "    }\n",
       "\n",
       "    .dataframe thead th {\n",
       "        text-align: right;\n",
       "    }\n",
       "</style>\n",
       "<table border=\"1\" class=\"dataframe\">\n",
       "  <thead>\n",
       "    <tr style=\"text-align: right;\">\n",
       "      <th></th>\n",
       "      <th>площадь</th>\n",
       "      <th>этаж</th>\n",
       "      <th>кондиционер</th>\n",
       "    </tr>\n",
       "  </thead>\n",
       "  <tbody>\n",
       "    <tr>\n",
       "      <th>0</th>\n",
       "      <td>38.5</td>\n",
       "      <td>3</td>\n",
       "      <td>1</td>\n",
       "    </tr>\n",
       "    <tr>\n",
       "      <th>1</th>\n",
       "      <td>38.0</td>\n",
       "      <td>9</td>\n",
       "      <td>0</td>\n",
       "    </tr>\n",
       "    <tr>\n",
       "      <th>2</th>\n",
       "      <td>34.7</td>\n",
       "      <td>1</td>\n",
       "      <td>0</td>\n",
       "    </tr>\n",
       "    <tr>\n",
       "      <th>3</th>\n",
       "      <td>45.9</td>\n",
       "      <td>11</td>\n",
       "      <td>1</td>\n",
       "    </tr>\n",
       "    <tr>\n",
       "      <th>4</th>\n",
       "      <td>42.4</td>\n",
       "      <td>6</td>\n",
       "      <td>0</td>\n",
       "    </tr>\n",
       "  </tbody>\n",
       "</table>\n",
       "</div>"
      ],
      "text/plain": [
       "   площадь  этаж  кондиционер\n",
       "0     38.5     3            1\n",
       "1     38.0     9            0\n",
       "2     34.7     1            0\n",
       "3     45.9    11            1\n",
       "4     42.4     6            0"
      ]
     },
     "execution_count": 23,
     "metadata": {},
     "output_type": "execute_result"
    }
   ],
   "source": [
    "df_train_2 = df_train.drop(['комнаты', 'кухня', 'пл. жилая', 'всего этажей'], axis=1)\n",
    "df_train_2.head()"
   ]
  },
  {
   "cell_type": "markdown",
   "id": "1f16351b",
   "metadata": {},
   "source": [
    "Визуализирум полученный датасет"
   ]
  },
  {
   "cell_type": "code",
   "execution_count": 24,
   "id": "2c5b6e18",
   "metadata": {},
   "outputs": [
    {
     "data": {
      "image/png": "[encoded data removed]",
      "text/plain": [
       "<Figure size 432x288 with 1 Axes>"
      ]
     },
     "metadata": {
      "needs_background": "light"
     },
     "output_type": "display_data"
    }
   ],
   "source": [
    "plt.scatter(x=df_train_2['площадь'], y=df_train_2['этаж'], c=df_train['кондиционер'])\n",
    "plt.show()"
   ]
  },
  {
   "cell_type": "markdown",
   "id": "6d759477",
   "metadata": {},
   "source": [
    "Введем информацию по искомой точке"
   ]
  },
  {
   "cell_type": "code",
   "execution_count": 25,
   "id": "78298072",
   "metadata": {},
   "outputs": [],
   "source": [
    "new_apartment = np.array([2, 51.0, 8.2, 35.9, 5, 5])"
   ]
  },
  {
   "cell_type": "markdown",
   "id": "6a5c74b0",
   "metadata": {},
   "source": [
    "Уменьшим количество ее признаков до 2-х, выбранных ранее"
   ]
  },
  {
   "cell_type": "code",
   "execution_count": 26,
   "id": "81caccf7",
   "metadata": {},
   "outputs": [],
   "source": [
    "new_apartment_2 = new_apartment[[1, 4]]"
   ]
  },
  {
   "cell_type": "markdown",
   "id": "0ea8d5ce",
   "metadata": {},
   "source": [
    "Отметим ее на картинке"
   ]
  },
  {
   "cell_type": "code",
   "execution_count": 27,
   "id": "65a2b59e",
   "metadata": {},
   "outputs": [
    {
     "data": {
      "image/png": "[encoded data removed]",
      "text/plain": [
       "<Figure size 432x288 with 1 Axes>"
      ]
     },
     "metadata": {
      "needs_background": "light"
     },
     "output_type": "display_data"
    }
   ],
   "source": [
    "df_train_2_true = df_train_2[df_train_2['кондиционер'] == 1]\n",
    "df_train_2_false = df_train_2[df_train_2['кондиционер'] == 0]\n",
    "\n",
    "plt.scatter(x=df_train_2_true['площадь'], y=df_train_2_true['этаж'], c='y')\n",
    "plt.scatter(x=df_train_2_false['площадь'], y=df_train_2_false['этаж'], c='b')\n",
    "plt.legend(['1', '0'])\n",
    "plt.plot(new_apartment_2[0],new_apartment_2[1],'ro', markersize=15)\n",
    "plt.show()"
   ]
  },
  {
   "cell_type": "markdown",
   "id": "81612c70",
   "metadata": {},
   "source": [
    "По картинке видно, что ближайшая к ней точка желтая (для случая одного ближайшего соседа) - значит целевой признак у входной точки тоже 1.\n",
    "\n",
    "В случае рассмотрения k ближайших соседей будем брать моду (наиболее часто встречающееся значение) целевой переменной."
   ]
  },
  {
   "cell_type": "markdown",
   "id": "078079ae",
   "metadata": {},
   "source": [
    "Теперь рассмотрим математику данного процесса. В нашем случае будем считать евклидово расстояние от нашей искомой точки (красной) до всех остальных в обучающем датасете.\n",
    "\n",
    "Назовем наши признаки как $x_{1i}$ и $x_{2i}$, а признаки искомой точки $x_{1find}$ и $x_{2find}$ соответственно, тогда"
   ]
  },
  {
   "cell_type": "markdown",
   "id": "7092be8f",
   "metadata": {},
   "source": [
    "$$ dist = \\sqrt{(x_{1find} - x_{1i})^2 + (x_{2find} - x_{2i})^2}$$"
   ]
  },
  {
   "cell_type": "markdown",
   "id": "1b174b2c",
   "metadata": {},
   "source": [
    "Реализуем формулу по расчету расстояния"
   ]
  },
  {
   "cell_type": "code",
   "execution_count": 8,
   "id": "4b6fc4c6",
   "metadata": {},
   "outputs": [],
   "source": [
    "def count_2_pr(df_train_2, new_apartment_2):\n",
    "    dist = []\n",
    "    for i in df_train_2.values:\n",
    "        dist.append((i[0] - new_apartment_2[0])**2 + (i[1] - new_apartment_2[1])**2)\n",
    "    return np.array(dist)"
   ]
  },
  {
   "cell_type": "code",
   "execution_count": 9,
   "id": "26f2a082",
   "metadata": {},
   "outputs": [
    {
     "data": {
      "text/plain": [
       "array([ 160.25,  185.  ,  281.69,   62.01,   74.96,   29.  ,  716.89,\n",
       "        402.44,  740.84,   36.25,  623.89, 1069.29,  538.  , 1641.16,\n",
       "       1237.  ,  845.44,  445.  , 2062.49,  335.89, 1866.44])"
      ]
     },
     "execution_count": 9,
     "metadata": {},
     "output_type": "execute_result"
    }
   ],
   "source": [
    "dist = count_2_pr(df_train_2, new_apartment_2)\n",
    "dist"
   ]
  },
  {
   "cell_type": "markdown",
   "id": "05a51494",
   "metadata": {},
   "source": [
    "Далее находим индекс минимального элемента массива (для случая одного ближайшего соседа)"
   ]
  },
  {
   "cell_type": "code",
   "execution_count": 10,
   "id": "a619b40b",
   "metadata": {},
   "outputs": [
    {
     "data": {
      "text/plain": [
       "5"
      ]
     },
     "execution_count": 10,
     "metadata": {},
     "output_type": "execute_result"
    }
   ],
   "source": [
    "index_find = dist.argmin()\n",
    "index_find"
   ]
  },
  {
   "cell_type": "markdown",
   "id": "11c00030",
   "metadata": {},
   "source": [
    "И находим значение целевого признака по индексу ближайшего соседа"
   ]
  },
  {
   "cell_type": "code",
   "execution_count": 11,
   "id": "e7a4d087",
   "metadata": {},
   "outputs": [
    {
     "data": {
      "text/plain": [
       "1"
      ]
     },
     "execution_count": 11,
     "metadata": {},
     "output_type": "execute_result"
    }
   ],
   "source": [
    "df_train_2.loc[5, 'кондиционер']"
   ]
  },
  {
   "cell_type": "markdown",
   "id": "896b7a6f",
   "metadata": {},
   "source": [
    "Для случая k ближайших соседей добавим к массиву dist индексы и значение целевой переменной"
   ]
  },
  {
   "cell_type": "code",
   "execution_count": 12,
   "id": "cc9c064a",
   "metadata": {},
   "outputs": [
    {
     "data": {
      "text/html": [
       "<div>\n",
       "<style scoped>\n",
       "    .dataframe tbody tr th:only-of-type {\n",
       "        vertical-align: middle;\n",
       "    }\n",
       "\n",
       "    .dataframe tbody tr th {\n",
       "        vertical-align: top;\n",
       "    }\n",
       "\n",
       "    .dataframe thead th {\n",
       "        text-align: right;\n",
       "    }\n",
       "</style>\n",
       "<table border=\"1\" class=\"dataframe\">\n",
       "  <thead>\n",
       "    <tr style=\"text-align: right;\">\n",
       "      <th></th>\n",
       "      <th>dist</th>\n",
       "      <th>кондиционер</th>\n",
       "    </tr>\n",
       "  </thead>\n",
       "  <tbody>\n",
       "    <tr>\n",
       "      <th>0</th>\n",
       "      <td>160.25</td>\n",
       "      <td>1</td>\n",
       "    </tr>\n",
       "    <tr>\n",
       "      <th>1</th>\n",
       "      <td>185.00</td>\n",
       "      <td>0</td>\n",
       "    </tr>\n",
       "    <tr>\n",
       "      <th>2</th>\n",
       "      <td>281.69</td>\n",
       "      <td>0</td>\n",
       "    </tr>\n",
       "    <tr>\n",
       "      <th>3</th>\n",
       "      <td>62.01</td>\n",
       "      <td>1</td>\n",
       "    </tr>\n",
       "    <tr>\n",
       "      <th>4</th>\n",
       "      <td>74.96</td>\n",
       "      <td>0</td>\n",
       "    </tr>\n",
       "  </tbody>\n",
       "</table>\n",
       "</div>"
      ],
      "text/plain": [
       "     dist  кондиционер\n",
       "0  160.25            1\n",
       "1  185.00            0\n",
       "2  281.69            0\n",
       "3   62.01            1\n",
       "4   74.96            0"
      ]
     },
     "execution_count": 12,
     "metadata": {},
     "output_type": "execute_result"
    }
   ],
   "source": [
    "dist_df = pd.DataFrame(dist, index=df_train_2.index)\n",
    "dist_df['кондиционер'] = df_train_2['кондиционер']\n",
    "dist_df.columns = ['dist', 'кондиционер']\n",
    "dist_df.head()"
   ]
  },
  {
   "cell_type": "markdown",
   "id": "d0a5d71e",
   "metadata": {},
   "source": [
    "Отсортируем"
   ]
  },
  {
   "cell_type": "code",
   "execution_count": 13,
   "id": "8a9a0b6d",
   "metadata": {},
   "outputs": [],
   "source": [
    "dist_df_sorted = dist_df.sort_values('dist').reset_index()"
   ]
  },
  {
   "cell_type": "markdown",
   "id": "3a46cbd8",
   "metadata": {},
   "source": [
    "Сделаем выборку k значений"
   ]
  },
  {
   "cell_type": "code",
   "execution_count": 14,
   "id": "d31c8687",
   "metadata": {},
   "outputs": [
    {
     "data": {
      "text/html": [
       "<div>\n",
       "<style scoped>\n",
       "    .dataframe tbody tr th:only-of-type {\n",
       "        vertical-align: middle;\n",
       "    }\n",
       "\n",
       "    .dataframe tbody tr th {\n",
       "        vertical-align: top;\n",
       "    }\n",
       "\n",
       "    .dataframe thead th {\n",
       "        text-align: right;\n",
       "    }\n",
       "</style>\n",
       "<table border=\"1\" class=\"dataframe\">\n",
       "  <thead>\n",
       "    <tr style=\"text-align: right;\">\n",
       "      <th></th>\n",
       "      <th>index</th>\n",
       "      <th>dist</th>\n",
       "      <th>кондиционер</th>\n",
       "    </tr>\n",
       "  </thead>\n",
       "  <tbody>\n",
       "    <tr>\n",
       "      <th>0</th>\n",
       "      <td>5</td>\n",
       "      <td>29.00</td>\n",
       "      <td>1</td>\n",
       "    </tr>\n",
       "    <tr>\n",
       "      <th>1</th>\n",
       "      <td>9</td>\n",
       "      <td>36.25</td>\n",
       "      <td>1</td>\n",
       "    </tr>\n",
       "    <tr>\n",
       "      <th>2</th>\n",
       "      <td>3</td>\n",
       "      <td>62.01</td>\n",
       "      <td>1</td>\n",
       "    </tr>\n",
       "    <tr>\n",
       "      <th>3</th>\n",
       "      <td>4</td>\n",
       "      <td>74.96</td>\n",
       "      <td>0</td>\n",
       "    </tr>\n",
       "    <tr>\n",
       "      <th>4</th>\n",
       "      <td>0</td>\n",
       "      <td>160.25</td>\n",
       "      <td>1</td>\n",
       "    </tr>\n",
       "  </tbody>\n",
       "</table>\n",
       "</div>"
      ],
      "text/plain": [
       "   index    dist  кондиционер\n",
       "0      5   29.00            1\n",
       "1      9   36.25            1\n",
       "2      3   62.01            1\n",
       "3      4   74.96            0\n",
       "4      0  160.25            1"
      ]
     },
     "execution_count": 14,
     "metadata": {},
     "output_type": "execute_result"
    }
   ],
   "source": [
    "k = 5\n",
    "dist_df_sorted_sample = dist_df_sorted.loc[0:k-1]\n",
    "dist_df_sorted_sample"
   ]
  },
  {
   "cell_type": "markdown",
   "id": "2c4a24d8",
   "metadata": {},
   "source": [
    "Возьмем моду целевой переменной"
   ]
  },
  {
   "cell_type": "code",
   "execution_count": 15,
   "id": "9c811acd",
   "metadata": {},
   "outputs": [
    {
     "data": {
      "text/plain": [
       "1"
      ]
     },
     "execution_count": 15,
     "metadata": {},
     "output_type": "execute_result"
    }
   ],
   "source": [
    "import statistics\n",
    "statistics.mode(dist_df_sorted_sample['кондиционер'])"
   ]
  },
  {
   "cell_type": "markdown",
   "id": "9affa2ca",
   "metadata": {},
   "source": [
    "Собственно для 5 ближайших соседей значение целевого признака тоже 1 (можно проверить по картинку)."
   ]
  },
  {
   "cell_type": "markdown",
   "id": "3e47c7bb",
   "metadata": {},
   "source": [
    "Но визуализировать мы может максимум 3 признака (тогда будем иметь 3-х мерное пространство), при большем количестве признаков мы попадаем в n-мерное пространство, которое можно представить только математически, однако там также считается расстояние как корень из суммы квадратов по каждому признаку. Если мы имеем p признаков тогда"
   ]
  },
  {
   "cell_type": "markdown",
   "id": "ca72dd78",
   "metadata": {},
   "source": [
    "$$ dist = \\sqrt{(x_{0_find} - x_{0_i})^2 + (x_{1_find} - x_{1_i})^2 + ...+ (x_{p_find} - x_{p_i})^2}$$"
   ]
  },
  {
   "cell_type": "markdown",
   "id": "35e4fe33",
   "metadata": {},
   "source": [
    "Или в общем случае"
   ]
  },
  {
   "cell_type": "markdown",
   "id": "b5510e12",
   "metadata": {},
   "source": [
    "$$ dist = \\sqrt{\\sum_0^p{(x_{p_find} - x_{p_i})^2}}$$"
   ]
  },
  {
   "cell_type": "markdown",
   "id": "398e9b95",
   "metadata": {},
   "source": [
    "Тогда для нашего случая с кондиционерами вычислить расстояние можно следующим образом"
   ]
  },
  {
   "cell_type": "code",
   "execution_count": 16,
   "id": "0cb14a86",
   "metadata": {},
   "outputs": [],
   "source": [
    "def count_dist(df_train, new_apartment):\n",
    "    dist = []\n",
    "    #итерации по строкам датафрейма\n",
    "    for i in df_train.values:\n",
    "        dist_for_column = []\n",
    "        #итерации по столбцам каждой строки\n",
    "        for column_i in range(len(i)):\n",
    "            dist_for_column.append((new_apartment[column_i] - i[column_i])**2)\n",
    "        dist.append(np.sqrt(sum(dist_for_column)))\n",
    "    return dist"
   ]
  },
  {
   "cell_type": "code",
   "execution_count": 17,
   "id": "1b54594f",
   "metadata": {},
   "outputs": [
    {
     "data": {
      "text/plain": [
       "[21.258880497335696,\n",
       " 24.677520134729907,\n",
       " 23.713076561256234,\n",
       " 27.092065259038485,\n",
       " 20.40098036859994,\n",
       " 17.89301539707603,\n",
       " 29.957469853110094,\n",
       " 27.479082954130764,\n",
       " 29.825660093282092,\n",
       " 21.819715855161817,\n",
       " 28.83782238658113,\n",
       " 38.1443311646698,\n",
       " 28.698780461894195,\n",
       " 49.07158036990454,\n",
       " 42.65208084021224,\n",
       " 30.874099177141993,\n",
       " 21.63238313270177,\n",
       " 51.36818081263925,\n",
       " 19.092930628900316,\n",
       " 52.66621307821553]"
      ]
     },
     "execution_count": 17,
     "metadata": {},
     "output_type": "execute_result"
    }
   ],
   "source": [
    "dist = count_dist(df_train.drop(['кондиционер'], axis=1), new_apartment)\n",
    "dist"
   ]
  },
  {
   "cell_type": "markdown",
   "id": "d9433974",
   "metadata": {},
   "source": [
    "Для вычисления данной длины у нас есть стандартная функция distance.euclidean(), тогда можно реализовать функцию в одни цикл"
   ]
  },
  {
   "cell_type": "code",
   "execution_count": 18,
   "id": "f9d05b98",
   "metadata": {},
   "outputs": [],
   "source": [
    "from scipy.spatial import distance\n",
    "\n",
    "def count_dist_euclidian(df_train, new_apartment):\n",
    "    dist = []\n",
    "    for i in df_train.index:\n",
    "        dist.append(distance.euclidean(new_apartment, df_train.loc[i]))\n",
    "    return dist"
   ]
  },
  {
   "cell_type": "code",
   "execution_count": 19,
   "id": "42eabf26",
   "metadata": {},
   "outputs": [
    {
     "data": {
      "text/plain": [
       "[21.258880497335696,\n",
       " 24.677520134729907,\n",
       " 23.713076561256237,\n",
       " 27.092065259038485,\n",
       " 20.40098036859994,\n",
       " 17.89301539707603,\n",
       " 29.957469853110094,\n",
       " 27.479082954130764,\n",
       " 29.825660093282096,\n",
       " 21.819715855161817,\n",
       " 28.83782238658113,\n",
       " 38.1443311646698,\n",
       " 28.698780461894195,\n",
       " 49.07158036990454,\n",
       " 42.65208084021224,\n",
       " 30.874099177141993,\n",
       " 21.63238313270177,\n",
       " 51.36818081263925,\n",
       " 19.09293062890032,\n",
       " 52.66621307821553]"
      ]
     },
     "execution_count": 19,
     "metadata": {},
     "output_type": "execute_result"
    }
   ],
   "source": [
    "dist = count_dist_euclidian(df_train.drop(['кондиционер'], axis=1), new_apartment)\n",
    "dist"
   ]
  },
  {
   "cell_type": "markdown",
   "id": "d6f94438",
   "metadata": {},
   "source": [
    "Дальше идентично с тем, что делали раньше."
   ]
  },
  {
   "cell_type": "code",
   "execution_count": null,
   "id": "9dbd2a21",
   "metadata": {},
   "outputs": [],
   "source": []
  }
 ],
 "metadata": {
  "kernelspec": {
   "display_name": "Python 3 (ipykernel)",
   "language": "python",
   "name": "python3"
  },
  "language_info": {
   "codemirror_mode": {
    "name": "ipython",
    "version": 3
   },
   "file_extension": ".py",
   "mimetype": "text/x-python",
   "name": "python",
   "nbconvert_exporter": "python",
   "pygments_lexer": "ipython3",
   "version": "3.10.6"
  }
 },
 "nbformat": 4,
 "nbformat_minor": 5
}
