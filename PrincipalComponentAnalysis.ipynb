{
 "cells": [
  {
   "cell_type": "markdown",
   "id": "afaac80c",
   "metadata": {},
   "source": [
    "## Метод главных компонент [sklearn](https://scikit-learn.org/stable/modules/generated/sklearn.decomposition.PCA.html)"
   ]
  },
  {
   "cell_type": "markdown",
   "id": "2b6a5f19",
   "metadata": {},
   "source": [
    "Метод главных компонент (PCA) - используется для снижения размерности данных за их счет проекции ортогональное подпространство признаков (возможен при наличии линейных зависимостей между признаками).\n",
    "\n",
    "Предположим что размер пространства $n$, для того чтобы снизить размерность до $k$ (где $k < n$) необходимо расчитать дисперсию вдоль каждой оси и выбрать оси с минимальной потерей информации или дисперсии. Многомерный вариант дисперсии матрица ковариаций. Ковариация - мера зависимости двух случайных величин и по определению равна:\n",
    "$$Cov(X_i, X_j) = E[(X_i - E(X_i))*(X_j - E(X_j))] = E(X_i X_j) - E(X_i)*E(X_j)$$\n",
    "Если произветсти предварительную центровку матрицы исходного пространства (из каждого ряда/признака вычесть среднее значение), то удастся избавиться от второго компонента в формуле и свести ее к\n",
    "$$Cov(X_i, X_j) = E(X_i X_j)$$\n",
    "Стоит отметить что для $X_i = X_j$ формула примет вид\n",
    "$$Cov(X_i, X_ш) = Var(X_i)$$\n",
    "\n",
    "Таким образом матрица ковариаций центрированной матрицы представляет собой симметричную диагональную матрицу, где по диагонали распологаются дисперсии сообветствующих признаков, а в ячейках ковариация между соответствующими признаками.\n",
    "$$Var(X) = E(X*X^T)$$\n",
    "\n",
    "Максимальная вариация нашего набора данных будет достигаться вдоль собственного вектора этой матрицы, соответствующего максимальному собственному значению. Таким образом главные компоненты, на которые мы бы хотели спроецировать наши данные, являются просто собственными векторами соответствующих топ-$k$ штук собственных значений этой матрицы.\n",
    "\n",
    "Задача практически решена, для уменьшения размерности осталось умножить нашу матрицу данных на эти компоненты и мы получим проекцию наших данных в ортогональном базисе этих компонент. Теперь если мы транспонируем полученную новую матрицу данных и матрицу векторов главных компонент и перемножим их, мы восстановим исходную выборку в том пространстве, из которого мы делали проекцию на компоненты. При этом если количество компонент было меньше размерности исходного пространства, мы потеряем часть информации при таком преобразовании."
   ]
  },
  {
   "cell_type": "markdown",
   "id": "1a02b0e7",
   "metadata": {},
   "source": [
    "### Реализация на python"
   ]
  },
  {
   "cell_type": "markdown",
   "id": "6435ffc9",
   "metadata": {},
   "source": [
    "Инициализация данных"
   ]
  },
  {
   "cell_type": "code",
   "execution_count": 235,
   "id": "81926a9c",
   "metadata": {},
   "outputs": [
    {
     "data": {
      "text/plain": [
       "array([[ 1.        ,  2.        ,  3.        ,  4.        ,  5.        ,\n",
       "         6.        ,  7.        ,  8.        ,  9.        , 10.        ],\n",
       "       [-0.17126121,  5.99469089,  6.565957  ,  4.98741057,  8.8427995 ,\n",
       "        15.30287307,  9.14664151, 15.14217474, 20.53187252, 18.2665192 ]])"
      ]
     },
     "execution_count": 235,
     "metadata": {},
     "output_type": "execute_result"
    }
   ],
   "source": [
    "import numpy as np\n",
    "np.random.seed(123)\n",
    "x1 = np.arange(1,11)\n",
    "y = 2 * x + np.random.randn(10)*2\n",
    "X = np.vstack((x,y))\n",
    "X"
   ]
  },
  {
   "cell_type": "markdown",
   "id": "32ab1306",
   "metadata": {},
   "source": [
    "Центровка матрицы"
   ]
  },
  {
   "cell_type": "code",
   "execution_count": 219,
   "id": "387fd57c",
   "metadata": {},
   "outputs": [
    {
     "name": "stdout",
     "output_type": "stream",
     "text": [
      "[[ -4.5        -10.63222899]\n",
      " [ -3.5         -4.46627689]\n",
      " [ -2.5         -3.89501078]\n",
      " [ -1.5         -5.47355721]\n",
      " [ -0.5         -1.61816828]\n",
      " [  0.5          4.84190529]\n",
      " [  1.5         -1.31432627]\n",
      " [  2.5          4.68120696]\n",
      " [  3.5         10.07090474]\n",
      " [  4.5          7.80555142]]\n",
      "Mean vector:  [ 5.5        10.46096778]\n"
     ]
    }
   ],
   "source": [
    "m = X.mean(axis=1)\n",
    "Xcentered = X.T - m\n",
    "print(Xcentered)\n",
    "print(\"Mean vector: \", m)"
   ]
  },
  {
   "cell_type": "markdown",
   "id": "9d1e83d1",
   "metadata": {},
   "source": [
    "Расчет матрицы ковариаций"
   ]
  },
  {
   "cell_type": "code",
   "execution_count": 236,
   "id": "9d2f744c",
   "metadata": {},
   "outputs": [
    {
     "data": {
      "text/plain": [
       "array([[ 8.25      , 16.47595751],\n",
       "       [16.47595751, 39.01762827]])"
      ]
     },
     "execution_count": 236,
     "metadata": {},
     "output_type": "execute_result"
    }
   ],
   "source": [
    "covmat = np.dot(Xcentered.T, Xcentered)/10\n",
    "covmat"
   ]
  },
  {
   "cell_type": "markdown",
   "id": "e3d166fd",
   "metadata": {},
   "source": [
    "Расчет собственных значений и собственных векторов"
   ]
  },
  {
   "cell_type": "code",
   "execution_count": 275,
   "id": "8cdf0c37",
   "metadata": {},
   "outputs": [
    {
     "data": {
      "text/plain": [
       "array([ 1.09232099, 46.17530728])"
      ]
     },
     "execution_count": 275,
     "metadata": {},
     "output_type": "execute_result"
    }
   ],
   "source": [
    "L, W = np.linalg.eig(covmat)\n",
    "L"
   ]
  },
  {
   "cell_type": "markdown",
   "id": "6fbf6915",
   "metadata": {},
   "source": [
    "Сортировка собственных векторов по собственным значениям"
   ]
  },
  {
   "cell_type": "code",
   "execution_count": 239,
   "id": "947e1426",
   "metadata": {},
   "outputs": [
    {
     "data": {
      "text/plain": [
       "array([[-0.39845545, -0.91718769],\n",
       "       [-0.91718769,  0.39845545]])"
      ]
     },
     "execution_count": 239,
     "metadata": {},
     "output_type": "execute_result"
    }
   ],
   "source": [
    "W_sort = np.array([w[1] for w in sorted(zip(L, W.T), key = lambda matrix: matrix[0], reverse=True)])\n",
    "W_sort"
   ]
  },
  {
   "cell_type": "markdown",
   "id": "11d656a7",
   "metadata": {},
   "source": [
    "Преобразование данных"
   ]
  },
  {
   "cell_type": "code",
   "execution_count": 271,
   "id": "fba5faa6",
   "metadata": {},
   "outputs": [
    {
     "data": {
      "text/plain": [
       "array([ 11.54479904,   5.49100824,   4.56859456,   5.61796245,\n",
       "         1.68339175,  -4.64016365,   0.60780069,  -5.28968401,\n",
       "       -10.6315039 ,  -8.95220518])"
      ]
     },
     "execution_count": 271,
     "metadata": {},
     "output_type": "execute_result"
    }
   ],
   "source": [
    "Xnew = np.dot(W_sort[0], Xcentered.T)\n",
    "Xnew"
   ]
  },
  {
   "cell_type": "markdown",
   "id": "7d117f54",
   "metadata": {},
   "source": [
    " Процент потеренной дисперсии можно определить по собственным значениям"
   ]
  },
  {
   "cell_type": "code",
   "execution_count": 276,
   "id": "83762e9d",
   "metadata": {},
   "outputs": [
    {
     "data": {
      "text/plain": [
       "0.9768907171110274"
      ]
     },
     "execution_count": 276,
     "metadata": {},
     "output_type": "execute_result"
    }
   ],
   "source": [
    "L[1]/np.sum(L)"
   ]
  },
  {
   "cell_type": "markdown",
   "id": "6eecb90a",
   "metadata": {},
   "source": [
    "Восстановление исходных данных с потерей информации"
   ]
  },
  {
   "cell_type": "code",
   "execution_count": 270,
   "id": "56d9879b",
   "metadata": {},
   "outputs": [
    {
     "name": "stdout",
     "output_type": "stream",
     "text": [
      "Restored:  [[ 0.89991191  3.31207784  3.6796186   3.26149224  4.82924338  7.34889849\n",
      "   5.2578185   7.60770342  9.73618067  9.06705494]\n",
      " [-0.12777976  5.42468262  6.2707091   5.30824179  8.91698159 14.71686875\n",
      "   9.90350047 15.31260083 20.21205226 18.67182015]]\n",
      "Original:  [[ 1.          2.          3.          4.          5.          6.\n",
      "   7.          8.          9.         10.        ]\n",
      " [-0.17126121  5.99469089  6.565957    4.98741057  8.8427995  15.30287307\n",
      "   9.14664151 15.14217474 20.53187252 18.2665192 ]]\n"
     ]
    }
   ],
   "source": [
    "n = 9     #номер элемента случайной величины\n",
    "Xrestored = np.dot(Xnew.reshape(10, 1), W_sort[0].reshape(1, 2)) + m\n",
    "print('Restored: ', Xrestored.T)\n",
    "print('Original: ', X)"
   ]
  },
  {
   "cell_type": "markdown",
   "id": "7d3dd1ec",
   "metadata": {},
   "source": [
    "### Проверка алгоритма в сравнении sklearn"
   ]
  },
  {
   "cell_type": "code",
   "execution_count": 225,
   "id": "e431f34a",
   "metadata": {},
   "outputs": [
    {
     "data": {
      "text/plain": [
       "array([[ 11.54479904,   5.49100824,   4.56859456,   5.61796245,\n",
       "          1.68339175,  -4.64016365,   0.60780069,  -5.28968401,\n",
       "        -10.6315039 ,  -8.95220518]])"
      ]
     },
     "execution_count": 225,
     "metadata": {},
     "output_type": "execute_result"
    }
   ],
   "source": [
    "from sklearn.decomposition import PCA\n",
    "pca = PCA(n_components=1)\n",
    "rez_s = pca.fit_transform(X.T)\n",
    "rez_s.T"
   ]
  },
  {
   "cell_type": "code",
   "execution_count": 272,
   "id": "6f910a0d",
   "metadata": {},
   "outputs": [
    {
     "data": {
      "text/plain": [
       "array([0.97689072])"
      ]
     },
     "execution_count": 272,
     "metadata": {},
     "output_type": "execute_result"
    }
   ],
   "source": [
    "pca.explained_variance_ratio_"
   ]
  },
  {
   "cell_type": "markdown",
   "id": "264f2761",
   "metadata": {},
   "source": [
    "### ПЕРЕПИСАТЬ РЕАЛИЗАЦИЮ ПОД КЛАСС И ПОИГРАТЬ С ПОТЕРЕННОЙ ДИСПЕРСИЕЙ"
   ]
  },
  {
   "cell_type": "code",
   "execution_count": null,
   "id": "59eecec4",
   "metadata": {},
   "outputs": [],
   "source": []
  }
 ],
 "metadata": {
  "kernelspec": {
   "display_name": "Python 3 (ipykernel)",
   "language": "python",
   "name": "python3"
  },
  "language_info": {
   "codemirror_mode": {
    "name": "ipython",
    "version": 3
   },
   "file_extension": ".py",
   "mimetype": "text/x-python",
   "name": "python",
   "nbconvert_exporter": "python",
   "pygments_lexer": "ipython3",
   "version": "3.10.6"
  }
 },
 "nbformat": 4,
 "nbformat_minor": 5
}
